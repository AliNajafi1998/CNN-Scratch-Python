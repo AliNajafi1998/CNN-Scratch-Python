{
 "cells": [
  {
   "cell_type": "markdown",
   "metadata": {},
   "source": [
    "## Implementation of CNN from SCRATCH"
   ]
  },
  {
   "cell_type": "code",
   "execution_count": 102,
   "metadata": {},
   "outputs": [],
   "source": [
    "import numpy as np\n",
    "import math"
   ]
  },
  {
   "cell_type": "code",
   "execution_count": 113,
   "metadata": {},
   "outputs": [],
   "source": [
    "class Conv2d:\n",
    "    id_ = 0\n",
    "    def __init__(self,input_x:np.ndarray,filter_shape:tuple,number_of_filters:int,padding:int=1,\n",
    "                 stride:int=1,max_pool_shape:tuple=None,max_pool_stride:int=2):\n",
    "        self.input_x = input_x # (channel,H,W)\n",
    "        self.filter_shape = filter_shape # (F_h,F_W)\n",
    "        self.number_of_filters = number_of_filters\n",
    "        self.padding = padding\n",
    "        self.stride = stride\n",
    "        self.filters = None\n",
    "        self.max_pool_shape = max_pool_shape\n",
    "        self.max_pool_stride = max_pool_stride        \n",
    "        self.id_ = Conv2d.id_ \n",
    "        Conv2d.id_ += 1\n",
    "        \n",
    "    def xavier_weight_init(self,shape:tuple,fan_in:int,fan_out:int) -> np.ndarray:\n",
    "        return np.random.randn(*shape)*np.sqrt(2/(fan_in+fan_out))\n",
    "        \n",
    "    # forward\n",
    "    def __call__(self) -> np.ndarray:\n",
    "        # Padding\n",
    "        input_x = None\n",
    "        if self.padding != 0:\n",
    "            ch0 = self.input_x[0]\n",
    "            ch1 = np.pad(self.input_x[1],1)\n",
    "            ch2 = np.pad(self.input_x[2],1)\n",
    "            input_x = np.vstack([[ch0],[ch1],[ch2]])\n",
    "        else:\n",
    "            input_x = self.input_x\n",
    "  \n",
    "        \n",
    "        # Calculating output Dimensions\n",
    "        output_h = math.floor((((self.input_x.shape[1]+2*self.padding-self.filter_shape[1]) /self.stride) + 1 ))\n",
    "        output_w = math.floor((((self.input_x.shape[2]+2*self.padding-self.filter_shape[2]) /self.stride) + 1 ))\n",
    "        \n",
    "        # Initializing output\n",
    "        output = np.zeros((self.number_of_filters,output_h,output_w)) # (number_of_filters,H,W)\n",
    "        \n",
    "        # Initializing filters\n",
    "        self.filters = [self.xavier_weight_init(\n",
    "            shape=(input_x.shape[0],self.filter_shape[1],self.filter_shape[2]),\n",
    "            fan_in = input_x.shape[0] * input_x.shape[1] * input_x.shape[2],\n",
    "            fan_out = self.filter_shape[0] * self.filter_shape[1] * input_x.shape[0] if self.max_pool_shape is None else self.filter_shape[0] * self.filter_shape[1] * input_x.shape[0] /(self.max_pool_shape[0]*self.max_pool_shape[1])  \n",
    "        ) for _ in range(self.number_of_filters)]\n",
    "        \n",
    "        \n",
    "        # Convolving\n",
    "        for index, filter_ in enumerate(self.filters):\n",
    "            out = np.empty((output_h,output_w))\n",
    "            row_counter = 0\n",
    "            col_counter = 0\n",
    "            for row in np.arange(0,input_x.shape[1],step=self.stride):\n",
    "                for col in np.arange(0,input_x.shape[2],step=self.stride):\n",
    "                    out[row_counter,col_counter] =(input_x[:,row:row+self.filter_shape[1],col:colself.filter_shape[2]] * filter_).sum()\n",
    "                    col_counter += 1\n",
    "                row_counter += 1\n",
    "            output[index] = out\n",
    "        \n",
    "        \n",
    "        # Max Pooling       \n",
    "        if self.max_pool_shape is not None:\n",
    "            pooling_output = np.zeros((output.shape[0],output.shape[1]//self.max_pool_shape[0],output.shape[2]//self.max_pool_shape[1]))\n",
    "            for i in range(output.shape[0]):\n",
    "                col_counter = 0\n",
    "                row_counter = 0\n",
    "                for row in np.arange(0,input_x.shape[1],step=self.max_pool_stride):\n",
    "                    for col in np.arange(0,input_x.shape[2],step=self.max_pool_stride):\n",
    "                        pooling_output[i,row_counter,col_counter] = output[i,row:row+self.max_pool_shape[0],col:col+self.max_pool_shape[1]].max()\n",
    "                        col_counter += 1 \n",
    "                    row_counter += 1\n",
    "                        \n",
    "            return pooling_output\n",
    "        \n",
    "        return output\n",
    "        "
   ]
  },
  {
   "cell_type": "code",
   "execution_count": null,
   "metadata": {},
   "outputs": [],
   "source": []
  },
  {
   "cell_type": "code",
   "execution_count": null,
   "metadata": {},
   "outputs": [],
   "source": []
  },
  {
   "cell_type": "code",
   "execution_count": null,
   "metadata": {},
   "outputs": [],
   "source": []
  }
 ],
 "metadata": {
  "kernelspec": {
   "display_name": "Python 3",
   "language": "python",
   "name": "python3"
  },
  "language_info": {
   "codemirror_mode": {
    "name": "ipython",
    "version": 3
   },
   "file_extension": ".py",
   "mimetype": "text/x-python",
   "name": "python",
   "nbconvert_exporter": "python",
   "pygments_lexer": "ipython3",
   "version": "3.7.3"
  }
 },
 "nbformat": 4,
 "nbformat_minor": 4
}
