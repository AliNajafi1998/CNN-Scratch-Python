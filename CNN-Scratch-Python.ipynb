{
 "cells": [
  {
   "cell_type": "markdown",
   "metadata": {},
   "source": [
    "## Implementation of CNN from SCRATCH"
   ]
  },
  {
   "cell_type": "code",
   "execution_count": 1,
   "metadata": {},
   "outputs": [],
   "source": [
    "import numpy as np\n",
    "import math"
   ]
  },
  {
   "cell_type": "code",
   "execution_count": 169,
   "metadata": {},
   "outputs": [],
   "source": [
    "class Conv2d:\n",
    "    id_ = 0\n",
    "    def __init__(self,input_x:np.ndarray,filter_shape:tuple,number_of_filters:int,padding:int=1,\n",
    "                 stride:int=1,max_pool_shape:tuple=None,max_pool_stride:int=2):\n",
    "        self.input_x = input_x # (channel,H,W)\n",
    "        self.filter_shape = filter_shape # (F_h,F_W)\n",
    "        self.number_of_filters = number_of_filters\n",
    "        self.padding = padding\n",
    "        self.stride = stride\n",
    "        self.filters = None\n",
    "        self.max_pool_shape = max_pool_shape\n",
    "        self.max_pool_stride = max_pool_stride        \n",
    "        self.id_ = Conv2d.id_ \n",
    "        Conv2d.id_ += 1\n",
    "        \n",
    "    def xavier_weight_init(self,shape:tuple,fan_in:int,fan_out:int) -> np.ndarray:\n",
    "        return np.random.randn(*shape)*np.sqrt(2/(fan_in+fan_out))\n",
    "        \n",
    "    # forward\n",
    "    def __call__(self,is_predicting=False) -> np.ndarray:\n",
    "        # Padding\n",
    "        input_x = None\n",
    "        if self.padding != 0:\n",
    "            ch0 = np.pad(self.input_x[0],1)\n",
    "            ch1 = np.pad(self.input_x[1],1)\n",
    "            ch2 = np.pad(self.input_x[2],1)\n",
    "            input_x = np.vstack([[ch0],[ch1],[ch2]])\n",
    "        else:\n",
    "            input_x = self.input_x\n",
    "  \n",
    "        \n",
    "        # Calculating output Dimensions\n",
    "        output_h = math.floor((((self.input_x.shape[1]+2*self.padding-self.filter_shape[0]) /self.stride) + 1 ))\n",
    "        output_w = math.floor((((self.input_x.shape[2]+2*self.padding-self.filter_shape[1]) /self.stride) + 1 ))\n",
    "        \n",
    "        # Initializing output\n",
    "        output = np.zeros((self.number_of_filters,output_h,output_w)) # (number_of_filters,H,W)\n",
    "        \n",
    "        # Initializing filters\n",
    "        if not is_predicting:\n",
    "            self.filters = [self.xavier_weight_init(\n",
    "                shape=(input_x.shape[0],self.filter_shape[0],self.filter_shape[1]),\n",
    "                fan_in = input_x.shape[0] * input_x.shape[1] * input_x.shape[2],\n",
    "                fan_out = self.filter_shape[0] * self.filter_shape[1] * input_x.shape[0] if self.max_pool_shape is None else self.filter_shape[0] * self.filter_shape[1] * input_x.shape[0] /(self.max_pool_shape[0]*self.max_pool_shape[1])  \n",
    "            ) for _ in range(self.number_of_filters)]\n",
    "\n",
    "        # Convolving\n",
    "        for index, filter_ in enumerate(self.filters):\n",
    "            out = np.empty((output_h,output_w))\n",
    "            row_counter = 0\n",
    "            col_counter = 0\n",
    "            for row in np.arange(0,input_x.shape[1],step=self.stride):\n",
    "                if row+self.filter_shape[0] > input_x.shape[1] or row > input_x.shape[1]:\n",
    "                    pass\n",
    "                else:\n",
    "                    for col in np.arange(0,input_x.shape[2],step=self.stride):\n",
    "                        if col+self.filter_shape[1] >  input_x.shape[2] or col > input_x.shape[2]:\n",
    "                            pass\n",
    "                        else:\n",
    "                            out[row_counter,col_counter] =(input_x[:,row:row+self.filter_shape[0],col:col+self.filter_shape[1]] * filter_).sum()\n",
    "                            col_counter += 1\n",
    "                    \n",
    "                    col_counter = 0\n",
    "                    row_counter += 1\n",
    "            output[index] = out\n",
    "        \n",
    "        \n",
    "        # Max Pooling       \n",
    "        if self.max_pool_shape is not None:\n",
    "            pooling_output = np.zeros((output.shape[0],\n",
    "                                       ((output.shape[1]-self.max_pool_shape[0])//self.max_pool_stride)+1,\n",
    "                                       ((output.shape[2]-self.max_pool_shape[1])//self.max_pool_stride)+1))\n",
    "            for i in range(output.shape[0]):\n",
    "                col_counter = 0\n",
    "                row_counter = 0\n",
    "                for row in np.arange(0,input_x.shape[1],step=self.max_pool_stride):\n",
    "                    if row+self.max_pool_shape[0] > output.shape[1]:\n",
    "                        pass\n",
    "                    else:\n",
    "                        for col in np.arange(0,input_x.shape[2],step=self.max_pool_stride):\n",
    "                            if col+self.max_pool_shape[1] > output.shape[2]:\n",
    "                                pass\n",
    "                            else:\n",
    "                                pooling_output[i,row_counter,col_counter] = output[i,row:row+self.max_pool_shape[0],col:col+self.max_pool_shape[1]].max()\n",
    "                                col_counter += 1 \n",
    "                        row_counter += 1\n",
    "                        col_counter = 0\n",
    "       \n",
    "            return pooling_output\n",
    "        \n",
    "        return output\n",
    "    \n",
    "#     def backward(self):\n",
    "        \n",
    "        \n",
    "        \n",
    "        \n",
    "        "
   ]
  },
  {
   "cell_type": "code",
   "execution_count": 170,
   "metadata": {},
   "outputs": [],
   "source": [
    "A = np.arange(75).reshape((3,5,5))"
   ]
  },
  {
   "cell_type": "code",
   "execution_count": 171,
   "metadata": {},
   "outputs": [
    {
     "data": {
      "text/plain": [
       "array([[[ 0,  1,  2,  3,  4],\n",
       "        [ 5,  6,  7,  8,  9],\n",
       "        [10, 11, 12, 13, 14],\n",
       "        [15, 16, 17, 18, 19],\n",
       "        [20, 21, 22, 23, 24]],\n",
       "\n",
       "       [[25, 26, 27, 28, 29],\n",
       "        [30, 31, 32, 33, 34],\n",
       "        [35, 36, 37, 38, 39],\n",
       "        [40, 41, 42, 43, 44],\n",
       "        [45, 46, 47, 48, 49]],\n",
       "\n",
       "       [[50, 51, 52, 53, 54],\n",
       "        [55, 56, 57, 58, 59],\n",
       "        [60, 61, 62, 63, 64],\n",
       "        [65, 66, 67, 68, 69],\n",
       "        [70, 71, 72, 73, 74]]])"
      ]
     },
     "execution_count": 171,
     "metadata": {},
     "output_type": "execute_result"
    }
   ],
   "source": [
    "A"
   ]
  },
  {
   "cell_type": "code",
   "execution_count": 172,
   "metadata": {},
   "outputs": [],
   "source": [
    "conv2d = Conv2d(input_x=A,filter_shape=(2,2),number_of_filters=5,padding=1,stride=2,max_pool_shape=(2,2))"
   ]
  },
  {
   "cell_type": "code",
   "execution_count": 173,
   "metadata": {},
   "outputs": [
    {
     "data": {
      "text/plain": [
       "(5, 1, 1)"
      ]
     },
     "execution_count": 173,
     "metadata": {},
     "output_type": "execute_result"
    }
   ],
   "source": [
    "conv2d(is_predicting=False).shape"
   ]
  }
 ],
 "metadata": {
  "kernelspec": {
   "display_name": "Python 3",
   "language": "python",
   "name": "python3"
  },
  "language_info": {
   "codemirror_mode": {
    "name": "ipython",
    "version": 3
   },
   "file_extension": ".py",
   "mimetype": "text/x-python",
   "name": "python",
   "nbconvert_exporter": "python",
   "pygments_lexer": "ipython3",
   "version": "3.7.3"
  }
 },
 "nbformat": 4,
 "nbformat_minor": 4
}
