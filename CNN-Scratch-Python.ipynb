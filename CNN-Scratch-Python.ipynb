{
 "cells": [
  {
   "cell_type": "markdown",
   "metadata": {},
   "source": [
    "## Implementation of CNN from SCRATCH"
   ]
  },
  {
   "cell_type": "code",
   "execution_count": 1,
   "metadata": {},
   "outputs": [],
   "source": [
    "import numpy as np\n",
    "import math"
   ]
  },
  {
   "cell_type": "code",
   "execution_count": 217,
   "metadata": {},
   "outputs": [],
   "source": [
    "class Conv2d:\n",
    "    id_ = 0\n",
    "    def __init__(self,input_x:np.ndarray,filter_shape:tuple,number_of_filters:int,padding:int=1,\n",
    "                 stride:int=1,max_pool_shape:tuple=None,max_pool_stride:int=2):\n",
    "        self.input_x = input_x # (channel,H,W) # X\n",
    "        self.filter_shape = filter_shape # (F_h,F_W)\n",
    "        self.number_of_filters = number_of_filters\n",
    "        self.padding = padding\n",
    "        self.stride = stride\n",
    "        self.filters = None # W\n",
    "        self.max_pool_shape = max_pool_shape\n",
    "        self.max_pool_stride = max_pool_stride    \n",
    "        self.max_pool_arg_max_indices = []\n",
    "        self.max_pool_dH= None\n",
    "        self.id_ = Conv2d.id_\n",
    "        Conv2d.id_ += 1\n",
    "        \n",
    "    def xavier_weight_init(self,shape:tuple,fan_in:int,fan_out:int) -> np.ndarray:\n",
    "        return np.random.randn(*shape)*np.sqrt(2/(fan_in+fan_out))\n",
    "        \n",
    "    # forward\n",
    "    def __call__(self,is_predicting=False) -> np.ndarray:\n",
    "        \n",
    "        # Calculating output Dimensions\n",
    "        output_h = math.floor((((self.input_x.shape[1]+2*self.padding-self.filter_shape[0]) /self.stride) + 1 ))\n",
    "        output_w = math.floor((((self.input_x.shape[2]+2*self.padding-self.filter_shape[1]) /self.stride) + 1 ))\n",
    "        \n",
    "        \n",
    "        # Padding\n",
    "        if self.padding != 0:\n",
    "            ch_list = [np.pad(self.input_x[x],self.padding) for x in range(self.input_x.shape[0])]\n",
    "            self.input_x = np.vstack([[ch] for ch in ch_list])\n",
    "        \n",
    "\n",
    "        # Initializing output\n",
    "        output = np.zeros((self.number_of_filters,output_h,output_w)) # (number_of_filters,H,W)\n",
    "        \n",
    "        # Initializing filters\n",
    "        if not is_predicting:\n",
    "            self.filters = [self.xavier_weight_init(\n",
    "                shape=(self.input_x.shape[0],self.filter_shape[0],self.filter_shape[1]),\n",
    "                fan_in = self.input_x.shape[0] * self.input_x.shape[1] * self.input_x.shape[2],\n",
    "                fan_out = self.filter_shape[0] * self.filter_shape[1] * self.input_x.shape[0] if self.max_pool_shape is None else self.filter_shape[0] * self.filter_shape[1] * self.input_x.shape[0] /(self.max_pool_shape[0]*self.max_pool_shape[1])  \n",
    "            ) for _ in range(self.number_of_filters)]\n",
    "\n",
    "        # Convolving\n",
    "        for index, filter_ in enumerate(self.filters):\n",
    "            out = np.empty((output_h,output_w))\n",
    "            row_counter = 0\n",
    "            for row in np.arange(0,self.input_x.shape[1],step=self.stride):\n",
    "                col_counter = 0\n",
    "                if row+self.filter_shape[0] > self.input_x.shape[1] or row > self.input_x.shape[1]:\n",
    "                    pass\n",
    "                else:\n",
    "                    for col in np.arange(0,self.input_x.shape[2],step=self.stride):\n",
    "                        if col+self.filter_shape[1] >  self.input_x.shape[2] or col > self.input_x.shape[2]:\n",
    "                            pass\n",
    "                        else:\n",
    "                            out[row_counter,col_counter] =(self.input_x[:,row:row+self.filter_shape[0],col:col+self.filter_shape[1]] * filter_).sum()\n",
    "                            col_counter += 1\n",
    "                    \n",
    "                    row_counter += 1\n",
    "            output[index] = out\n",
    "        \n",
    "        \n",
    "        # Max Pooling       \n",
    "        if self.max_pool_shape is not None:\n",
    "            self.max_pool_dH = np.zeros(output.shape)\n",
    "            pooling_output = np.zeros((output.shape[0],\n",
    "                                       ((output.shape[1]-self.max_pool_shape[0])//self.max_pool_stride)+1,\n",
    "                                       ((output.shape[2]-self.max_pool_shape[1])//self.max_pool_stride)+1))\n",
    "            for i in range(output.shape[0]):\n",
    "                row_counter = 0\n",
    "                indices = []\n",
    "                for row in np.arange(0,self.input_x.shape[1],step=self.max_pool_stride):\n",
    "                    col_counter = 0\n",
    "                    if row+self.max_pool_shape[0] > output.shape[1]:\n",
    "                        pass\n",
    "                    else:\n",
    "                        for col in np.arange(0,self.input_x.shape[2],step=self.max_pool_stride):\n",
    "                            if col+self.max_pool_shape[1] > output.shape[2]:\n",
    "                                pass\n",
    "                            else:\n",
    "                                result = output[i,row:row+self.max_pool_shape[0],col:col+self.max_pool_shape[1]]\n",
    "                                argmax_row,argmax_col = np.unravel_index(result.argmax(), result.shape)\n",
    "                                indices.append((argmax_row,argmax_col))\n",
    "                                pooling_output[i,row_counter,col_counter] = result[argmax_row,argmax_col]\n",
    "                                col_counter += 1 \n",
    "                        row_counter += 1\n",
    "                self.max_pool_arg_max_indices.append(indices)\n",
    "            return pooling_output\n",
    "        \n",
    "        return output  \n",
    "    \n",
    "    def __calculate_pad(self,n,f,stride,out):\n",
    "        return ((out-1)*stride + f-n)//2\n",
    "    \n",
    "    def backward(self,dH):\n",
    "        \n",
    "        if self.max_pool_shape is not None:\n",
    "            #Expanding dh \n",
    "            for i in range(self.number_of_filters):\n",
    "                index=0\n",
    "                row_counter = 0\n",
    "                for row in np.arange(0,self.max_pool_dH.shape[1],step=self.max_pool_stride):\n",
    "                    if row+self.max_pool_shape[0] > self.max_pool_dH.shape[1]:\n",
    "                        pass\n",
    "                    col_counter = 0\n",
    "                    for col in np.arange(0,self.max_pool_dH.shape[2],step=self.max_pool_stride):\n",
    "                        if col+self.max_pool_shape[1] > self.max_pool_dH.shape[2]:\n",
    "                                pass\n",
    "                        self.max_pool_dH[i,row:row+self.max_pool_shape[0],col:col+self.max_pool_shape[1]][self.max_pool_arg_max_indices[i][index][0],self.max_pool_arg_max_indices[i][index][1]] = dH[i,row_counter,col_counter]\n",
    "                        index+=1\n",
    "                        col_counter+=1\n",
    "                    row_counter+=1\n",
    "            dH = self.max_pool_dH\n",
    "\n",
    "        (n_C,n_H, n_W) = dH.shape            \n",
    "        dx = np.zeros(self.input_x.shape)\n",
    "        dw = np.zeros((n_C,self.input_x.shape[0],self.filter_shape[0],self.filter_shape[1])) # filter_numbers , channel_numbers , H . W\n",
    "\n",
    "        for index in range(n_C):\n",
    "            dh = np.vstack([[dH[index]] for _ in range(self.input_x.shape[0])])\n",
    "            conv_out = np.empty((self.input_x.shape[0],self.filter_shape[0],self.filter_shape[1]))\n",
    "\n",
    "            \n",
    "            row_counter = 0\n",
    "            for row in np.arange(0,self.input_x.shape[1],step=self.stride):\n",
    "                col_counter = 0\n",
    "                if row+n_H > self.input_x.shape[1] or row > self.input_x.shape[1]:\n",
    "                    pass\n",
    "                else:\n",
    "                    for col in np.arange(0,self.input_x.shape[2],step=self.stride):\n",
    "                        if col+n_W >  self.input_x.shape[2] or col > self.input_x.shape[2]:\n",
    "                            pass\n",
    "                        else:\n",
    "                            conv_out[row_counter,col_counter] =(self.input_x[:,row:row+n_H,col:col+n_W] * dh).sum()\n",
    "                            col_counter += 1\n",
    "                    \n",
    "                    row_counter += 1\n",
    "            dw[index] = conv_out\n",
    "        \n",
    "        \n",
    "        pad_H = self.__calculate_pad(n=self.filters[0].shape[1],f=n_H,stride=self.stride,out=self.input_x.shape[1])\n",
    "        pad_W = self.__calculate_pad(n=self.filters[0].shape[2],f=n_W,stride=self.stride,out=self.input_x.shape[2])\n",
    "        for index in range(n_C):\n",
    "            dX = np.zeros(self.input_x.shape)\n",
    "            dh = np.vstack([[dH[index]] for _ in range(self.input_x.shape[0])])        \n",
    "            rotated_180_filter = np.flip(np.flip(self.filters[index], 2), 1)\n",
    "            ch_list = [np.pad(rotated_180_filter[x],[(pad_H,pad_H),(pad_W,pad_W)]) for x in range(self.input_x.shape[0])]\n",
    "            rotated_180_filter = np.vstack([[ch] for ch in ch_list])\n",
    "            \n",
    "            row_counter = 0\n",
    "            for row in np.arange(0,rotated_180_filter.shape[1],step=self.stride):\n",
    "                col_counter = 0\n",
    "                if row+dh.shape[1] > rotated_180_filter.shape[1] or row > rotated_180_filter.shape[1]:\n",
    "                    pass\n",
    "                else:\n",
    "                    for col in np.arange(0,rotated_180_filter.shape[2],step=self.stride):\n",
    "                        if col+dh.shape[2] >  rotated_180_filter.shape[2] or col > rotated_180_filter.shape[2]:\n",
    "                            pass\n",
    "                        else:\n",
    "                            dX[row_counter,col_counter] = (rotated_180_filter[:,row:row+dh.shape[1],col:col+dh.shape[2]] * dh).sum()\n",
    "                            col_counter += 1\n",
    "                    \n",
    "                    row_counter += 1\n",
    "            dx+=dX\n",
    "        \n",
    "        return dx, dw\n",
    "        \n",
    "        \n",
    "        "
   ]
  },
  {
   "cell_type": "code",
   "execution_count": 207,
   "metadata": {},
   "outputs": [],
   "source": [
    "A = np.arange(225).reshape((9,5,5))"
   ]
  },
  {
   "cell_type": "code",
   "execution_count": 208,
   "metadata": {},
   "outputs": [],
   "source": [
    "conv2d_1 = Conv2d(input_x=A,filter_shape=(2,2),number_of_filters=16,padding=1,max_pool_shape=(2,2))"
   ]
  },
  {
   "cell_type": "code",
   "execution_count": 209,
   "metadata": {},
   "outputs": [],
   "source": [
    "forward_result1 = conv2d_1()"
   ]
  },
  {
   "cell_type": "code",
   "execution_count": 210,
   "metadata": {},
   "outputs": [
    {
     "data": {
      "text/plain": [
       "(16, 3, 3)"
      ]
     },
     "execution_count": 210,
     "metadata": {},
     "output_type": "execute_result"
    }
   ],
   "source": [
    "forward_result1.shape"
   ]
  },
  {
   "cell_type": "code",
   "execution_count": 211,
   "metadata": {},
   "outputs": [],
   "source": [
    "conv2d_2 = Conv2d(input_x=forward_result1,filter_shape=(2,2),number_of_filters=3,padding=0)"
   ]
  },
  {
   "cell_type": "code",
   "execution_count": 212,
   "metadata": {},
   "outputs": [],
   "source": [
    "forward_result2 = conv2d_2()"
   ]
  },
  {
   "cell_type": "code",
   "execution_count": 213,
   "metadata": {},
   "outputs": [
    {
     "data": {
      "text/plain": [
       "(3, 2, 2)"
      ]
     },
     "execution_count": 213,
     "metadata": {},
     "output_type": "execute_result"
    }
   ],
   "source": [
    "forward_result2.shape"
   ]
  },
  {
   "cell_type": "code",
   "execution_count": 214,
   "metadata": {},
   "outputs": [],
   "source": [
    "backward_2,_ = conv2d_2.backward(forward_result2)"
   ]
  },
  {
   "cell_type": "code",
   "execution_count": 215,
   "metadata": {},
   "outputs": [],
   "source": [
    "backward_1,_ = conv2d_1.backward(backward_2)"
   ]
  },
  {
   "cell_type": "code",
   "execution_count": 216,
   "metadata": {},
   "outputs": [
    {
     "data": {
      "text/plain": [
       "(9, 7, 7)"
      ]
     },
     "execution_count": 216,
     "metadata": {},
     "output_type": "execute_result"
    }
   ],
   "source": [
    "backward_1.shape"
   ]
  },
  {
   "cell_type": "code",
   "execution_count": 218,
   "metadata": {},
   "outputs": [
    {
     "name": "stdout",
     "output_type": "stream",
     "text": [
      "0\n"
     ]
    }
   ],
   "source": [
    "print(conv2d_1.id_)"
   ]
  },
  {
   "cell_type": "code",
   "execution_count": 219,
   "metadata": {},
   "outputs": [
    {
     "name": "stdout",
     "output_type": "stream",
     "text": [
      "1\n"
     ]
    }
   ],
   "source": [
    "print(conv2d_2.id_)"
   ]
  },
  {
   "cell_type": "code",
   "execution_count": null,
   "metadata": {},
   "outputs": [],
   "source": []
  }
 ],
 "metadata": {
  "kernelspec": {
   "display_name": "Python 3",
   "language": "python",
   "name": "python3"
  },
  "language_info": {
   "codemirror_mode": {
    "name": "ipython",
    "version": 3
   },
   "file_extension": ".py",
   "mimetype": "text/x-python",
   "name": "python",
   "nbconvert_exporter": "python",
   "pygments_lexer": "ipython3",
   "version": "3.7.3"
  }
 },
 "nbformat": 4,
 "nbformat_minor": 4
}
